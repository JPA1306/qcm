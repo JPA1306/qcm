{
 "cells": [
  {
   "cell_type": "code",
   "execution_count": 1,
   "metadata": {
    "collapsed": true
   },
   "outputs": [],
   "source": [
    "from main import Elearn\n",
    "from datetime import date"
   ]
  },
  {
   "cell_type": "code",
   "execution_count": 2,
   "metadata": {
    "collapsed": true
   },
   "outputs": [],
   "source": [
    "! rm -f a.db\n",
    "elearn = Elearn('sqlite:///a.db')"
   ]
  },
  {
   "cell_type": "code",
   "execution_count": 3,
   "metadata": {
    "collapsed": true
   },
   "outputs": [],
   "source": [
    "elearn.test_fill(\n",
    "  chapter='Météorologie et aérologie',\n",
    "  lquestion=(\n",
    "    ('questions/Meteorologie/caea-2015/Q01.png','abcd','a'),\n",
    "    ('questions/Meteorologie/caea-2015/Q02.png','abcd','d'),\n",
    "    ('questions/Meteorologie/caea-2015/Q03.png','abcd','d'),\n",
    "    ('questions/Meteorologie/caea-2015/Q04.png','abcd','b'),\n",
    "    ('questions/Meteorologie/caea-2015/Q05.png','abcd','a'),\n",
    "    ('questions/Meteorologie/caea-2015/Q06.png','abcd','c'),\n",
    "    ('questions/Meteorologie/caea-2015/Q07.png','abcd','b'),\n",
    "  )\n",
    ")"
   ]
  },
  {
   "cell_type": "code",
   "execution_count": 4,
   "metadata": {},
   "outputs": [
    {
     "data": {
      "text/plain": [
       "1"
      ]
     },
     "execution_count": 4,
     "metadata": {},
     "output_type": "execute_result"
    }
   ],
   "source": [
    "Q = elearn.new_questionnaire(\n",
    "    date=date(2017,2,19),\n",
    "    title='test exam',\n",
    "    nb_question=4,\n",
    "    lstudent=('Barack Obama','Bill Clinton','John Kennedy','Franklin Roosevelt'),\n",
    ")\n",
    "Q.oid"
   ]
  },
  {
   "cell_type": "code",
   "execution_count": 5,
   "metadata": {},
   "outputs": [
    {
     "data": {
      "text/plain": [
       "18"
      ]
     },
     "execution_count": 5,
     "metadata": {},
     "output_type": "execute_result"
    }
   ],
   "source": [
    "Q.questions[1].height"
   ]
  },
  {
   "cell_type": "code",
   "execution_count": 6,
   "metadata": {},
   "outputs": [],
   "source": [
    "Q.create_papers('b.pdf')"
   ]
  },
  {
   "cell_type": "code",
   "execution_count": null,
   "metadata": {},
   "outputs": [],
   "source": [
    "from myutil import exploredb\n",
    "exploredb('sqlite:///a.db')"
   ]
  },
  {
   "cell_type": "code",
   "execution_count": null,
   "metadata": {
    "collapsed": true
   },
   "outputs": [],
   "source": []
  }
 ],
 "metadata": {
  "anaconda-cloud": {},
  "kernelspec": {
   "display_name": "Python 3",
   "language": "python",
   "name": "python3"
  },
  "language_info": {
   "codemirror_mode": {
    "name": "ipython",
    "version": 3
   },
   "file_extension": ".py",
   "mimetype": "text/x-python",
   "name": "python",
   "nbconvert_exporter": "python",
   "pygments_lexer": "ipython3",
   "version": "3.6.1"
  }
 },
 "nbformat": 4,
 "nbformat_minor": 2
}
