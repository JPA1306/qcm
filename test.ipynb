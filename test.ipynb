{
 "cells": [
  {
   "cell_type": "code",
   "execution_count": null,
   "metadata": {
    "collapsed": true
   },
   "outputs": [],
   "source": [
    "from a import Elearn\n",
    "from myutil import exploredb\n",
    "from datetime import date"
   ]
  },
  {
   "cell_type": "code",
   "execution_count": null,
   "metadata": {
    "collapsed": true
   },
   "outputs": [],
   "source": [
    "! rm -f a.db\n",
    "elearn = Elearn('sqlite:///a.db')"
   ]
  },
  {
   "cell_type": "code",
   "execution_count": null,
   "metadata": {
    "collapsed": true
   },
   "outputs": [],
   "source": [
    "elearn.test_fill(\n",
    "  chapter='Météorologie et aérologie',\n",
    "  lquestion=(\n",
    "    ('questions/Meteorologie/caea-2015/Q1.png','abcd','a'),\n",
    "    ('questions/Meteorologie/caea-2015/Q2.png','abcd','d'),\n",
    "    ('questions/Meteorologie/caea-2015/Q3.png','abcd','d'),\n",
    "    ('questions/Meteorologie/caea-2015/Q4.png','abcd','b'),\n",
    "    ('questions/Meteorologie/caea-2015/Q5.png','abcd','a'),\n",
    "    ('questions/Meteorologie/caea-2015/Q6.png','abcd','c'),\n",
    "    ('questions/Meteorologie/caea-2015/Q7.png','abcd','b'),\n",
    "  )\n",
    ")"
   ]
  },
  {
   "cell_type": "code",
   "execution_count": null,
   "metadata": {},
   "outputs": [],
   "source": [
    "Q = elearn.new_questionnaire(\n",
    "    date=date(2017,2,19),\n",
    "    title='test exam',\n",
    "    nb_question=4,\n",
    "    lstudent=('Barack Obama','Bill Clinton','John Kennedy','Franklin Roosevelt'),\n",
    ")\n",
    "Q.oid"
   ]
  },
  {
   "cell_type": "code",
   "execution_count": null,
   "metadata": {},
   "outputs": [],
   "source": [
    "Q.questions[1].height"
   ]
  },
  {
   "cell_type": "code",
   "execution_count": null,
   "metadata": {
    "collapsed": true
   },
   "outputs": [],
   "source": [
    "x = Q.create_paper('Joe Bar')"
   ]
  },
  {
   "cell_type": "code",
   "execution_count": null,
   "metadata": {},
   "outputs": [],
   "source": [
    "from lxml.etree import tostring as tobytes\n",
    "i = list(Q.paper)[4]\n",
    "tobytes(Q.paper)"
   ]
  },
  {
   "cell_type": "code",
   "execution_count": null,
   "metadata": {},
   "outputs": [],
   "source": [
    "exploredb('sqlite:///a.db')"
   ]
  },
  {
   "cell_type": "code",
   "execution_count": null,
   "metadata": {},
   "outputs": [],
   "source": [
    "len(x)"
   ]
  },
  {
   "cell_type": "code",
   "execution_count": null,
   "metadata": {
    "collapsed": true
   },
   "outputs": [],
   "source": []
  }
 ],
 "metadata": {
  "anaconda-cloud": {},
  "kernelspec": {
   "display_name": "Python 3",
   "language": "python",
   "name": "python3"
  },
  "language_info": {
   "codemirror_mode": {
    "name": "ipython",
    "version": 3
   },
   "file_extension": ".py",
   "mimetype": "text/x-python",
   "name": "python",
   "nbconvert_exporter": "python",
   "pygments_lexer": "ipython3",
   "version": "3.6.1"
  }
 },
 "nbformat": 4,
 "nbformat_minor": 2
}
